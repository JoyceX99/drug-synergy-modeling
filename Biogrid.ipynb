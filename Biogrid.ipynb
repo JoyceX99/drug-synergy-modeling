{
 "cells": [
  {
   "cell_type": "code",
   "execution_count": 1,
   "metadata": {
    "collapsed": true
   },
   "outputs": [],
   "source": [
    "import numpy as np\n",
    "import pandas as pd\n",
    "import csv"
   ]
  },
  {
   "cell_type": "code",
   "execution_count": 11,
   "metadata": {
    "collapsed": false
   },
   "outputs": [],
   "source": [
    "targets = (\"ADAM17 AKT1 AKT2 AKT3 PIK3CA PIK3CB PIK3CD SGK1 ALK IGF1R IGF2R AR ATM ATR BCL2 \"\n",
    "           \"BIRC5 BIRC2 BIRC3 BRAF VEGFC KDR CD19 CHEK1 CSNK2A1 TUBB MAP2 MAP4 MAPT TOP1 TOP2 \"\n",
    "           \"DNMT1 KIF11 EGFR ESR1 FASN FGFR1 FGFR2 FGFR3 FGFR4 FNTA FNTB RRM1 TYMS CMPK1 HDAC1 \"\n",
    "           \"HDAC3 HSP90AA1 XIAP CHUK IKBKB JAK1 JAK2 MAP2K1 MAP2K2 RAF1 MET MTOR NAE1 UBA3 PARP1 \"\n",
    "           \"PDGFRA PIM1 PIP5K1A PAWR PRKDC PTK2 SLC16A3 SLC16A4 SRC SYK RET TEK TNF TNFSF10 TNKS \"\n",
    "           \"PARP6 TTK FLT1 FLT4 WEE1 WNT1\")\n",
    "targets = targets.split()"
   ]
  },
  {
   "cell_type": "code",
   "execution_count": 24,
   "metadata": {
    "collapsed": false
   },
   "outputs": [
    {
     "name": "stdout",
     "output_type": "stream",
     "text": [
      "true\n"
     ]
    }
   ],
   "source": [
    "test = \"AKT12\"\n",
    "t2 = \"TTK\"\n",
    "if any(test.startswith(s) for s in targets):\n",
    "    print('true')"
   ]
  },
  {
   "cell_type": "code",
   "execution_count": 31,
   "metadata": {
    "collapsed": false
   },
   "outputs": [],
   "source": [
    "with open('Biogrid/original.csv','r') as infile:\n",
    "    with open('Biogrid/mod4.csv', 'w') as outfile:\n",
    "        added = []\n",
    "        \n",
    "        reader=csv.DictReader(infile)\n",
    "        fields = reader.fieldnames\n",
    "        writer = csv.DictWriter(outfile, fieldnames=fields)\n",
    "        \n",
    "        writer.writeheader()\n",
    "        \n",
    "        for row in reader:\n",
    "            n1 = row['Official Symbol Interactor A']\n",
    "            n2 = row['Official Symbol Interactor B']\n",
    "            if (any(t1 == n1 for t1 in targets) and\n",
    "               any(t2 == n2 and t2 != n1 for t2 in targets) and \n",
    "               (n1 + \" \" + n2) not in added and (n2 + \" \" + n1) not in added):\n",
    "                writer.writerow(row)\n",
    "                added.append(n1 + \" \" + n2)"
   ]
  },
  {
   "cell_type": "code",
   "execution_count": 8,
   "metadata": {
    "collapsed": false
   },
   "outputs": [
    {
     "name": "stdout",
     "output_type": "stream",
     "text": [
      "John\n",
      " \n",
      "Simon\n",
      " \n",
      "Jane\n",
      " \n"
     ]
    }
   ],
   "source": [
    "with open('Biogrid/test.csv','r') as f:\n",
    "    reader = csv.DictReader(f, delimiter=',')\n",
    "    for row in reader:\n",
    "        print(row['Name'])\n",
    "        print(' ')"
   ]
  }
 ],
 "metadata": {
  "kernelspec": {
   "display_name": "Python 3",
   "language": "python",
   "name": "python3"
  },
  "language_info": {
   "codemirror_mode": {
    "name": "ipython",
    "version": 3
   },
   "file_extension": ".py",
   "mimetype": "text/x-python",
   "name": "python",
   "nbconvert_exporter": "python",
   "pygments_lexer": "ipython3",
   "version": "3.4.3"
  }
 },
 "nbformat": 4,
 "nbformat_minor": 0
}
