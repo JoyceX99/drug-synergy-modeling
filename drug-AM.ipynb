{
 "cells": [
  {
   "cell_type": "code",
   "execution_count": 1,
   "metadata": {
    "collapsed": true
   },
   "outputs": [],
   "source": [
    "import pandas as pd\n",
    "import numpy as np"
   ]
  },
  {
   "cell_type": "code",
   "execution_count": 2,
   "metadata": {
    "collapsed": false
   },
   "outputs": [],
   "source": [
    "am = pd.DataFrame.from_csv('Drug_expanded/drug-drug-AM.csv')"
   ]
  },
  {
   "cell_type": "code",
   "execution_count": 3,
   "metadata": {
    "collapsed": false
   },
   "outputs": [],
   "source": [
    "for c in am.columns:\n",
    "        if not am[c].equals(am.loc[c]):\n",
    "            print(c)"
   ]
  },
  {
   "cell_type": "code",
   "execution_count": 121,
   "metadata": {
    "collapsed": false
   },
   "outputs": [],
   "source": [
    "df = pd.DataFrame.from_csv('Train_data/clustered2.csv')"
   ]
  },
  {
   "cell_type": "code",
   "execution_count": 122,
   "metadata": {
    "collapsed": false
   },
   "outputs": [],
   "source": [
    "df['Target_share'] = \"\"\n",
    "for i in range(df.shape[0]):\n",
    "    df.set_value(i, 'Target_share', am.ix[df.ix[i, 'COMPOUND_A'], df.ix[i, 'COMPOUND_B']])\n",
    "    #df['Target_share'][i] = am[df['COMPOUND_A'][i]][df['COMPOUND_B'][i]] "
   ]
  },
  {
   "cell_type": "code",
   "execution_count": 123,
   "metadata": {
    "collapsed": false
   },
   "outputs": [
    {
     "data": {
      "text/plain": [
       "Index(['CELL_LINE', 'COMPOUND_A', 'COMPOUND_B', 'MAX_CONC_A', 'MAX_CONC_B',\n",
       "       'IC50_A', 'H_A', 'Einf_A', 'IC50_B', 'H_B', 'Einf_B', 'SYNERGY_SCORE',\n",
       "       'A_HBA', 'A_cLogP', 'A_HBD', 'A_Lipinski', 'A_MW', 'A_ALogP/XLogP',\n",
       "       'A_PSA', 'A_#RotBonds', 'A_Arom Rings', 'A_Heavy atoms', 'A_QED',\n",
       "       'B_HBA', 'B_cLogP', 'B_HBD', 'B_Lipinski', 'B_MW', 'B_ALogP/XLogP',\n",
       "       'B_PSA', 'B_#RotBonds', 'B_Arom Rings', 'B_Heavy atoms', 'B_QED',\n",
       "       'GEX_CLUSTER', 'ORIGIN_CLUSTER', 'THERAPY_CLUSTER', 'Target_share'],\n",
       "      dtype='object')"
      ]
     },
     "execution_count": 123,
     "metadata": {},
     "output_type": "execute_result"
    }
   ],
   "source": [
    "df.columns"
   ]
  },
  {
   "cell_type": "code",
   "execution_count": 129,
   "metadata": {
    "collapsed": true
   },
   "outputs": [],
   "source": [
    "df.to_csv('Train_data/with_targets2.csv')"
   ]
  },
  {
   "cell_type": "code",
   "execution_count": 124,
   "metadata": {
    "collapsed": false
   },
   "outputs": [],
   "source": [
    "df = df.iloc[np.random.permutation(len(df))]\n",
    "Ypd = df['SYNERGY_SCORE']\n",
    "Xpd = pd.get_dummies(df.drop('SYNERGY_SCORE', axis=1), columns=['CELL_LINE', 'COMPOUND_A', 'COMPOUND_B'])\n",
    "\n",
    "#orig_data = pd.DataFrame.from_csv('Clean_data/train2.csv', header=0, index_col=None)\n",
    "#df = df.iloc[np.random.permutation(len(orig_data))]\n",
    "#Xpd = pd.get_dummies(df, columns=['CELL_LINE', 'COMPOUND_A', 'COMPOUND_B'])\n",
    "#Ypd = orig_data['SYNERGY_SCORE'].reindex(Xpd.index)\n",
    "\n",
    "Xvals = Xpd.values\n",
    "yvals = Ypd.values"
   ]
  },
  {
   "cell_type": "code",
   "execution_count": 10,
   "metadata": {
    "collapsed": true
   },
   "outputs": [],
   "source": [
    "def print_scores(model):\n",
    "    print(\"R^2: \" + str(model.score(X_test, y_test)))\n",
    "    print(\"RMSE: \" + str(scoring.rmse(y_test, model.predict(X_test))) ) # root mean squared error\n",
    "    print(\"MAE: \" + str(metrics.mean_absolute_error(y_test, model.predict(X_test)))) # mean absolute error\n",
    "    print(\"MAPE: \" + str(scoring.mape(y_test, model.predict(X_test)))) # mean absolute percent error\n",
    "    print(\"Error within 20: \" + str(scoring.error_within(0.2, y_test, model.predict(X_test)))) # error within\n",
    "    print(\"Pearson: \" + str(stats.pearsonr(y_test, model.predict(X_test)))) # pearson correlation"
   ]
  },
  {
   "cell_type": "markdown",
   "metadata": {},
   "source": [
    "## Training"
   ]
  },
  {
   "cell_type": "code",
   "execution_count": 39,
   "metadata": {
    "collapsed": true
   },
   "outputs": [],
   "source": [
    "from sklearn.ensemble import GradientBoostingRegressor\n",
    "from sklearn.svm import SVR, SVC\n",
    "from sklearn import cross_validation, metrics\n",
    "from sklearn.grid_search import GridSearchCV, RandomizedSearchCV\n",
    "import scipy.stats as stats\n",
    "import scoring"
   ]
  },
  {
   "cell_type": "code",
   "execution_count": 125,
   "metadata": {
    "collapsed": false
   },
   "outputs": [],
   "source": [
    "X_train, X_test, y_train, y_test = cross_validation.train_test_split(Xvals, yvals)"
   ]
  },
  {
   "cell_type": "code",
   "execution_count": 126,
   "metadata": {
    "collapsed": false
   },
   "outputs": [
    {
     "data": {
      "text/plain": [
       "GradientBoostingRegressor(alpha=0.9, init=None, learning_rate=0.03, loss='ls',\n",
       "             max_depth=7, max_features='log2', max_leaf_nodes=None,\n",
       "             min_samples_leaf=1, min_samples_split=2,\n",
       "             min_weight_fraction_leaf=0.0, n_estimators=1000,\n",
       "             random_state=None, subsample=1.0, verbose=0, warm_start=False)"
      ]
     },
     "execution_count": 126,
     "metadata": {},
     "output_type": "execute_result"
    }
   ],
   "source": [
    "gbr = GradientBoostingRegressor(n_estimators=1000, max_depth=7,\n",
    "                                max_features='log2', learning_rate=0.03)\n",
    "gbr.fit(X_train, y_train)"
   ]
  },
  {
   "cell_type": "code",
   "execution_count": 127,
   "metadata": {
    "collapsed": false
   },
   "outputs": [
    {
     "name": "stdout",
     "output_type": "stream",
     "text": [
      "R^2: 0.303345939352\n",
      "RMSE: 38.27535550342086\n",
      "MAE: 23.0766183463\n",
      "MAPE: 3.83356707243\n",
      "Error within 20: 0.489795918367\n",
      "Pearson: (0.55289669457883595, 1.7725165894405088e-44)\n"
     ]
    }
   ],
   "source": [
    "print_scores(gbr)"
   ]
  },
  {
   "cell_type": "code",
   "execution_count": 132,
   "metadata": {
    "collapsed": false
   },
   "outputs": [
    {
     "name": "stdout",
     "output_type": "stream",
     "text": [
      "0.352857325976, 0.595579294764\n",
      "0.233894086761, 0.536985038475\n",
      "0.264293977878, 0.542710665055\n",
      "0.29200569844, 0.593830099557\n",
      "0.336467592446, 0.595107481029\n",
      "0.454032319331, 0.689335673817\n",
      "0.397183809878, 0.630676384758\n",
      "0.385285222895, 0.623321078576\n",
      "0.399223534995, 0.645433127192\n",
      "0.32266407888, 0.606421353709\n",
      " \n",
      "Average: 0.343790764748, 0.605940019693\n"
     ]
    }
   ],
   "source": [
    "r2s = []\n",
    "pearsons = []\n",
    "for i in range(10):\n",
    "    X_train, X_test, y_train, y_test = cross_validation.train_test_split(Xvals, yvals)\n",
    "    gbr = GradientBoostingRegressor(n_estimators=1000, max_depth=7,\n",
    "                                max_features='log2', learning_rate=0.03)\n",
    "    gbr.fit(X_train, y_train)\n",
    "    r2 = gbr.score(X_test, y_test)\n",
    "    r2s.append(r2)\n",
    "    p = stats.pearsonr(y_test, gbr.predict(X_test))[0]\n",
    "    pearsons.append(p)\n",
    "    \n",
    "    print(str(r2) + \", \" + str(p))\n",
    "print(\" \")\n",
    "print(\"Average: \" + str(np.mean(r2s)) + \", \" + str(np.mean(pearsons)))"
   ]
  },
  {
   "cell_type": "code",
   "execution_count": 170,
   "metadata": {
    "collapsed": true
   },
   "outputs": [],
   "source": [
    "param_grid_gb = {\n",
    "    'learning_rate': [0.03, 0.05],\n",
    "    'n_estimators': [100, 200, 300],\n",
    "    'max_features': ['log2', 'sqrt', 'auto'],\n",
    "    'max_depth': [7, 8]\n",
    "}\n",
    "gbr = GradientBoostingRegressor()"
   ]
  },
  {
   "cell_type": "code",
   "execution_count": 171,
   "metadata": {
    "collapsed": false
   },
   "outputs": [
    {
     "name": "stdout",
     "output_type": "stream",
     "text": [
      "{'learning_rate': 0.03, 'max_depth': 8, 'max_features': 'log2', 'n_estimators': 300}\n",
      "0.320772621424\n",
      "{'learning_rate': 0.05, 'max_depth': 7, 'max_features': 'log2', 'n_estimators': 300}\n",
      "0.319446549601\n",
      "{'learning_rate': 0.05, 'max_depth': 8, 'max_features': 'log2', 'n_estimators': 200}\n",
      "0.317491377939\n"
     ]
    }
   ],
   "source": [
    "grid_search_gb = GridSearchCV(gbr, param_grid_gb, n_jobs=2)\n",
    "for i in range(3):\n",
    "    grid_search_gb.fit(Xvals, yvals)\n",
    "    print(grid_search_gb.best_params_)\n",
    "    print(grid_search_gb.best_score_)"
   ]
  },
  {
   "cell_type": "code",
   "execution_count": 95,
   "metadata": {
    "collapsed": true
   },
   "outputs": [],
   "source": [
    "import matplotlib.pyplot as plt\n",
    "%matplotlib inline \n",
    "plt.rcParams['figure.figsize'] = (10, 6)"
   ]
  },
  {
   "cell_type": "code",
   "execution_count": 100,
   "metadata": {
    "collapsed": false
   },
   "outputs": [
    {
     "data": {
      "image/png": "[encoded data removed]",
      "text/plain": [
       "<matplotlib.figure.Figure at 0x107200a90>"
      ]
     },
     "metadata": {},
     "output_type": "display_data"
    }
   ],
   "source": [
    "x = y_test\n",
    "y = gbr.predict(X_test)\n",
    "plt.scatter(x, y)\n",
    "plt.plot(x, x, 'k--')\n",
    "\n",
    "m, b = np.polyfit(x, y, 1)\n",
    "plt.plot(x, m*x + b, 'b--')\n",
    "\n",
    "plt.axis([-200, 150, -200, 150])\n",
    "plt.xlabel(\"True synergy\")\n",
    "plt.ylabel(\"Predicted synergy\")\n",
    "plt.show()"
   ]
  },
  {
   "cell_type": "markdown",
   "metadata": {},
   "source": [
    "## Classification"
   ]
  },
  {
   "cell_type": "code",
   "execution_count": 101,
   "metadata": {
    "collapsed": true
   },
   "outputs": [],
   "source": [
    "from sklearn.metrics import roc_auc_score\n",
    "from sklearn.preprocessing import StandardScaler"
   ]
  },
  {
   "cell_type": "code",
   "execution_count": 141,
   "metadata": {
    "collapsed": true
   },
   "outputs": [],
   "source": [
    "Xstand = StandardScaler().fit_transform(Xvals)"
   ]
  },
  {
   "cell_type": "code",
   "execution_count": 152,
   "metadata": {
    "collapsed": true
   },
   "outputs": [],
   "source": [
    "def svm_pred():\n",
    "    Yclass = Ypd > 0\n",
    "    Yclass = Yclass.astype(int)\n",
    "    Yvals = Yclass.values\n",
    "\n",
    "#     m = Ypd.shape[0]\n",
    "#     Yvals = np.zeros(m)\n",
    "#     for i in range(m):\n",
    "#         if Ypd[i] > 50:\n",
    "#             Yvals[i] = 1\n",
    "#         elif Ypd[i] < -50:\n",
    "#             Yvals[i] = -1\n",
    "#         else:\n",
    "#             Yvals[i] = 0\n",
    "    X_train, X_test, y_train, y_test = cross_validation.train_test_split(Xstand, Yvals)\n",
    "    \n",
    "    svm = SVC() #(C=10, gamma=0.001)\n",
    "    svm.fit(X_train, y_train)\n",
    "    pred = svm.predict(X_test)\n",
    "    print(\"Classification accuracy: \" + str(svm.score(X_test, y_test)))\n",
    "    print(\"AUC: \" + str(metrics.roc_auc_score(y_test, pred)))"
   ]
  },
  {
   "cell_type": "code",
   "execution_count": 153,
   "metadata": {
    "collapsed": false
   },
   "outputs": [
    {
     "name": "stdout",
     "output_type": "stream",
     "text": [
      "Classification accuracy: 0.667903525046\n",
      "AUC: 0.60544242389\n"
     ]
    }
   ],
   "source": [
    "svm_pred()"
   ]
  },
  {
   "cell_type": "code",
   "execution_count": 83,
   "metadata": {
    "collapsed": true
   },
   "outputs": [],
   "source": [
    "def grid_search_svm():\n",
    "    params = {\n",
    "        'C': [1, 5, 10],\n",
    "        'gamma': [0.005, 0.001, 0.0005]\n",
    "    }\n",
    "    svc = SVC()\n",
    "    \n",
    "    Yclass = Ypd > 0\n",
    "    Yclass = Yclass.astype(int)\n",
    "    Yvals = Yclass.values\n",
    "    \n",
    "    search = GridSearchCV(svc, params, n_jobs=2)\n",
    "    for i in range(3):\n",
    "        search.fit(Xstand, Yvals)\n",
    "        print(search.best_params_)\n",
    "        print(search.best_score_)"
   ]
  },
  {
   "cell_type": "code",
   "execution_count": 84,
   "metadata": {
    "collapsed": false
   },
   "outputs": [
    {
     "name": "stdout",
     "output_type": "stream",
     "text": [
      "{'gamma': 0.001, 'C': 10}\n",
      "0.836118848654\n",
      "{'gamma': 0.001, 'C': 10}\n",
      "0.836118848654\n",
      "{'gamma': 0.001, 'C': 10}\n",
      "0.836118848654\n"
     ]
    }
   ],
   "source": [
    "grid_search_svm()"
   ]
  },
  {
   "cell_type": "code",
   "execution_count": null,
   "metadata": {
    "collapsed": true
   },
   "outputs": [],
   "source": []
  }
 ],
 "metadata": {
  "kernelspec": {
   "display_name": "Python 3",
   "language": "python",
   "name": "python3"
  },
  "language_info": {
   "codemirror_mode": {
    "name": "ipython",
    "version": 3
   },
   "file_extension": ".py",
   "mimetype": "text/x-python",
   "name": "python",
   "nbconvert_exporter": "python",
   "pygments_lexer": "ipython3",
   "version": "3.4.3"
  }
 },
 "nbformat": 4,
 "nbformat_minor": 0
}
