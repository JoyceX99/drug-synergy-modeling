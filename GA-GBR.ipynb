{
 "cells": [
  {
   "cell_type": "code",
   "execution_count": 1,
   "metadata": {
    "collapsed": true
   },
   "outputs": [],
   "source": [
    "import pandas as pd\n",
    "import numpy as np\n",
    "import random\n",
    "import scipy.stats as stats\n",
    "from sklearn.ensemble import GradientBoostingRegressor\n",
    "from sklearn.svm import SVC\n",
    "from sklearn import cross_validation"
   ]
  },
  {
   "cell_type": "markdown",
   "metadata": {},
   "source": [
    "Steps:\n",
    "1) Initial population (20) chromosomes:\n",
    "    - 3 parts: [n-estimators][learning-rate][features]\n",
    "               [600-1200]    [0.01-0.07]    [0,1 presence]\n",
    "    - n-estimators: randint(0, 30)*20+600\n",
    "    - learning-rate: randint(1, 5)*0.01\n",
    "    - features: if random() > 0.7, include feature\n",
    "2) Determine fitness:\n",
    "    - feed values to gbr, get score\n",
    "        - for n-estimators, round to nearest 10\n",
    "    - fitness = wa * accuracy + wf * (1/sum(feature-presence))\n",
    "        - wa, wf weights, wf meant to penalize incorporating large number of features\n",
    "        - probably wa ~95-100 (num-features does not matter)\n",
    "3) Hold out \"elite\" (top ~10%)\n",
    "4) Crossover\n",
    "    - repeat while len(newPop) < len(oldPop):\n",
    "    - select of 2 parents: select random number r between 0 and sum of pop's fitness\n",
    "                           sum through population until reach a number > r \n",
    "    - choose random crossover point, switch all after that\n",
    "5) Mutation\n",
    "    - for each bit, if random() < 0.001, flip\n",
    "\n",
    "\n",
    "Overall:\n",
    "Generate population\n",
    "for x iterations:\n",
    "    * evolve population (grade fitness, hold out, crossover, mutation -> return newPop)\n",
    "return fittest"
   ]
  },
  {
   "cell_type": "code",
   "execution_count": 2,
   "metadata": {
    "collapsed": false
   },
   "outputs": [
    {
     "data": {
      "text/plain": [
       "Index(['CELL_LINE', 'COMPOUND_A', 'COMPOUND_B', 'MAX_CONC_A', 'MAX_CONC_B',\n",
       "       'IC50_A', 'H_A', 'Einf_A', 'IC50_B', 'H_B', 'Einf_B', 'A_HBA',\n",
       "       'A_cLogP', 'A_HBD', 'A_Lipinski', 'A_MW', 'A_ALogP/XLogP', 'A_PSA',\n",
       "       'A_#RotBonds', 'A_Arom Rings', 'A_Heavy atoms', 'A_QED', 'B_HBA',\n",
       "       'B_cLogP', 'B_HBD', 'B_Lipinski', 'B_MW', 'B_ALogP/XLogP', 'B_PSA',\n",
       "       'B_#RotBonds', 'B_Arom Rings', 'B_Heavy atoms', 'B_QED', 'GEX_CLUSTER',\n",
       "       'ORIGIN_CLUSTER', 'THERAPY_CLUSTER', 'Target_share'],\n",
       "      dtype='object')"
      ]
     },
     "execution_count": 2,
     "metadata": {},
     "output_type": "execute_result"
    }
   ],
   "source": [
    "orig_data = pd.DataFrame.from_csv('Clean_data/train.csv', header=0, index_col=False)\n",
    "df = pd.DataFrame.from_csv('Train_data/with_targets.csv')\n",
    "df.columns"
   ]
  },
  {
   "cell_type": "code",
   "execution_count": 3,
   "metadata": {
    "collapsed": false
   },
   "outputs": [
    {
     "data": {
      "text/plain": [
       "'B_HBA'"
      ]
     },
     "execution_count": 3,
     "metadata": {},
     "output_type": "execute_result"
    }
   ],
   "source": [
    "df.columns[22]"
   ]
  },
  {
   "cell_type": "markdown",
   "metadata": {},
   "source": [
    "#### feature chromosome represents: columns[11-21] -> [22-32]"
   ]
  },
  {
   "cell_type": "code",
   "execution_count": 4,
   "metadata": {
    "collapsed": false
   },
   "outputs": [
    {
     "data": {
      "text/plain": [
       "11"
      ]
     },
     "execution_count": 4,
     "metadata": {},
     "output_type": "execute_result"
    }
   ],
   "source": [
    "num_features = 11 #(just the added features)\n",
    "num_features"
   ]
  },
  {
   "cell_type": "code",
   "execution_count": 5,
   "metadata": {
    "collapsed": true
   },
   "outputs": [],
   "source": [
    "# returns binary string of sepcified length\n",
    "def toBinary(x, length):\n",
    "    bstring = bin(x)[2:]\n",
    "    return (length-len(bstring))*'0'+bstring\n",
    "\n",
    "def generatePop(count):\n",
    "    pop = []\n",
    "    for i in range(count):\n",
    "        c1 = toBinary(random.randint(0, 30), 5)\n",
    "        c2 = toBinary(random.randint(1, 7), 3)\n",
    "        c3arr = [int(random.random()>0.5) for x in range(num_features)]\n",
    "        c3 = ''.join(str(x) for x in c3arr)\n",
    "        chromo = c1+c2+c3\n",
    "        pop.append(chromo)\n",
    "    return pop"
   ]
  },
  {
   "cell_type": "code",
   "execution_count": 6,
   "metadata": {
    "collapsed": false
   },
   "outputs": [
    {
     "name": "stdout",
     "output_type": "stream",
     "text": [
      "['1001001011010111010', '1011101101011101101', '0010011110110110111', '0110011000000110101', '0111101001011000110']\n"
     ]
    }
   ],
   "source": [
    "print(generatePop(5))"
   ]
  },
  {
   "cell_type": "code",
   "execution_count": 7,
   "metadata": {
    "collapsed": true
   },
   "outputs": [],
   "source": [
    "def fitness(ind, wa):\n",
    "    c1 = ind[:5]\n",
    "    c2 = ind[5:8]\n",
    "    c3 = ind[8:]\n",
    "    num_est = int(c1, 2)*20+600\n",
    "    lr = int(c2, 2)*0.01\n",
    "    feats = [int(x) for x in list(c3)]\n",
    "    \n",
    "    # drop features whose corresponding position is 0:\n",
    "    toDrop = []\n",
    "    for i in range(len(feats)):\n",
    "        if feats[i]==0:\n",
    "            toDrop.append(df.columns[i+11]) # A_features\n",
    "            toDrop.append(df.columns[i+22]) # B_features\n",
    "    df_mod = df.drop(toDrop, axis=1)\n",
    "    \n",
    "    # build up X, y train/test values:\n",
    "    df_mod = df_mod.iloc[np.random.permutation(len(orig_data))]\n",
    "    Xpd = pd.get_dummies(df_mod, columns=['CELL_LINE', 'COMPOUND_A', 'COMPOUND_B'])\n",
    "    Ypd = orig_data['SYNERGY_SCORE'].reindex(df_mod.index)\n",
    "    X_train, X_test, y_train, y_test = cross_validation.train_test_split(Xpd.values, Ypd.values)\n",
    "    \n",
    "    \n",
    "    # train model\n",
    "    gbr = GradientBoostingRegressor(n_estimators=num_est, learning_rate=lr, \n",
    "                                    max_depth=7, max_features='log2')\n",
    "    gbr.fit(X_train, y_train)\n",
    "    #accuracy = gbr.score(X_test, y_test)\n",
    "    accuracy = stats.pearsonr(y_test, gbr.predict(X_test))[0]\n",
    "    \n",
    "    # calculate fitness score: wa (weight accuracy) vs wf (weight features = inverse size)\n",
    "    fitness = wa*accuracy + (1-wa)*(1/sum(feats))\n",
    "    return fitness"
   ]
  },
  {
   "cell_type": "code",
   "execution_count": 8,
   "metadata": {
    "collapsed": true
   },
   "outputs": [],
   "source": [
    "def select(pop):\n",
    "    fitnesses = [fitness(ind, 0.9) for ind in pop]\n",
    "    r = random.random()*sum(fitnesses)\n",
    "    count = 0\n",
    "    for i in range(len(pop)):\n",
    "        count += fitnesses[i]\n",
    "        if count > r:\n",
    "            return pop[i]\n",
    "\n",
    "def crossover(p1, p2):\n",
    "    while True:\n",
    "        crossSite = random.randint(1, len(p1)-2)\n",
    "        c1 = p1[:crossSite] + p2[crossSite:]\n",
    "        c2 = p2[:crossSite] + p1[crossSite:]\n",
    "        if '1' in c1[5:8] and '1' in c2[5:8]: # if learning rate not 0\n",
    "            break\n",
    "    return c1, c2\n",
    "\n",
    "def mutate(p1, muteRate):\n",
    "    mutated = ''\n",
    "    for bit in p1:\n",
    "        if random.random() < muteRate:\n",
    "            mutated += ('1' if (bit=='0') else '0')\n",
    "        else:\n",
    "            mutated += bit\n",
    "    return mutated"
   ]
  },
  {
   "cell_type": "code",
   "execution_count": 15,
   "metadata": {
    "collapsed": true
   },
   "outputs": [],
   "source": [
    "def evolve(pop, muteRate=0.001):\n",
    "    # \"Hold-out\" elite\n",
    "#     scores = [(fitness(ind, 0.95), ind) for ind in pop] # pairs of (fitness, individual)\n",
    "#     ranked = [x[1] for x in sorted(scores)] # ranked individuals by fitness\n",
    "#     retain_pos = int(0.1*len(ranked))\n",
    "#     newPop = ranked[:retain_pos]\n",
    "    \n",
    "    newPop = []\n",
    "    # Populate with children\n",
    "    while (len(newPop) < len(pop)):\n",
    "        p1, p2 = select(pop), select(pop)\n",
    "        c1, c2 = crossover(p1, p2)\n",
    "        c1, c2 = mutate(c1, muteRate), mutate(c2, muteRate)\n",
    "        newPop.extend([c1, c2])\n",
    "    return newPop"
   ]
  },
  {
   "cell_type": "code",
   "execution_count": 16,
   "metadata": {
    "collapsed": true
   },
   "outputs": [],
   "source": [
    "def bestFit(pop):\n",
    "    scores = [(fitness(ind, 0.95), ind) for ind in pop] # pairs of (fitness, individual)\n",
    "    best = sorted(scores)[0]\n",
    "    return best[1], best[0] # individual, fitness"
   ]
  },
  {
   "cell_type": "code",
   "execution_count": 17,
   "metadata": {
    "collapsed": false
   },
   "outputs": [
    {
     "name": "stdout",
     "output_type": "stream",
     "text": [
      "0.461508394162 -> 1010110001001100011\n",
      "0.499778074272 -> 0001010110001101001\n",
      "0.473063095768 -> 1110001100101111101\n",
      "0.492666151857 -> 0110010111001111101\n",
      "0.508008473113 -> 0100111111101111101\n",
      "0.473484149035 -> 0110001101101110000\n",
      "0.458874106813 -> 1100111000101001101\n",
      "0.516382484706 -> 0011101010101111110\n",
      "0.460321168599 -> 1100111000101111101\n",
      "0.483271194632 -> 0011101010101111101\n",
      "0.513440513924 -> 0011101001101111101\n",
      "0.472534094187 -> 0011101000101001101\n",
      "0.469063623211 -> 0011111010101001101\n",
      "0.470730712203 -> 0001101010101110001\n",
      "0.511438061817 -> 0001101011101001101\n",
      "0.486452898494 -> 0011101011101110001\n",
      "0.467405514848 -> 0011111010101111101\n",
      "0.482687502074 -> 0011101000101111101\n",
      "0.451012207507 -> 0011101011101110001\n",
      "0.503846301852 -> 0011101000101110101\n",
      "0.492362507573 -> 0011101000101110001\n",
      "0.504055325968 -> 0011101010101110001\n",
      "0.458718125847 -> 0011101011101110001\n",
      "0.515953951759 -> 0011101010101110101\n",
      "0.484393997559 -> 1001101010101110101\n",
      "0.463195747374 -> 0011101010101110001\n",
      "0.501554552372 -> 0011101010101110101\n",
      "0.504565220082 -> 0011101010101110101\n",
      "0.505240131371 -> 0011101010101110001\n",
      "0.515311665303 -> 1011101010101110001\n",
      "0.483897311763 -> 0001101010101110001\n"
     ]
    }
   ],
   "source": [
    "p = generatePop(20)\n",
    "print(str(bestFit(p)[1]) + ' -> ' + str(bestFit(p)[0]))\n",
    "for i in range(30):\n",
    "    p = evolve(p)\n",
    "    best = bestFit(p)\n",
    "    print(str(best[1]) + ' -> ' + str(best[0]))"
   ]
  },
  {
   "cell_type": "markdown",
   "metadata": {},
   "source": [
    "0.517641793998\n",
    "0.437962584177\n",
    "0.452752921057\n",
    "0.477713745149\n",
    "0.512090991349\n",
    "0.499979297675\n",
    "0.487268919544\n",
    "0.46369458358\n",
    "0.487436052318\n",
    "0.521185332243\n",
    "0.469072111826\n",
    "0.49661530266\n",
    "0.518260209555\n",
    "0.505441707497\n",
    "0.511000291084\n",
    "0.503450823409"
   ]
  },
  {
   "cell_type": "markdown",
   "metadata": {},
   "source": [
    "0.461508394162 -> 1010110001001100011\n",
    "0.499778074272 -> 0001010110001101001\n",
    "0.473063095768 -> 1110001100101111101\n",
    "0.492666151857 -> 0110010111001111101\n",
    "0.508008473113 -> 0100111111101111101\n",
    "0.473484149035 -> 0110001101101110000\n",
    "0.458874106813 -> 1100111000101001101\n",
    "0.516382484706 -> 0011101010101111110\n",
    "0.460321168599 -> 1100111000101111101\n",
    "0.483271194632 -> 0011101010101111101\n",
    "0.513440513924 -> 0011101001101111101\n",
    "0.472534094187 -> 0011101000101001101\n",
    "0.469063623211 -> 0011111010101001101\n",
    "0.470730712203 -> 0001101010101110001\n",
    "0.511438061817 -> 0001101011101001101\n",
    "0.486452898494 -> 0011101011101110001\n",
    "0.467405514848 -> 0011111010101111101\n",
    "0.482687502074 -> 0011101000101111101\n",
    "0.451012207507 -> 0011101011101110001\n",
    "0.503846301852 -> 0011101000101110101\n",
    "0.492362507573 -> 0011101000101110001\n",
    "0.504055325968 -> 0011101010101110001\n",
    "0.458718125847 -> 0011101011101110001\n",
    "0.515953951759 -> 0011101010101110101\n",
    "0.484393997559 -> 1001101010101110101\n",
    "0.463195747374 -> 0011101010101110001\n",
    "0.501554552372 -> 0011101010101110101\n",
    "0.504565220082 -> 0011101010101110101\n",
    "0.505240131371 -> 0011101010101110001\n",
    "0.515311665303 -> 1011101010101110001\n",
    "0.483897311763 -> 0001101010101110001\n",
    "\n",
    "0.517641793998\n",
    "0.437962584177\n",
    "0.452752921057\n",
    "0.477713745149\n",
    "0.512090991349\n",
    "0.499979297675\n",
    "0.487268919544\n",
    "0.46369458358\n",
    "0.487436052318\n",
    "0.521185332243\n",
    "0.469072111826\n",
    "0.49661530266\n",
    "0.518260209555\n",
    "0.505441707497\n",
    "0.511000291084\n",
    "0.503450823409"
   ]
  }
 ],
 "metadata": {
  "kernelspec": {
   "display_name": "Python 3",
   "language": "python",
   "name": "python3"
  },
  "language_info": {
   "codemirror_mode": {
    "name": "ipython",
    "version": 3
   },
   "file_extension": ".py",
   "mimetype": "text/x-python",
   "name": "python",
   "nbconvert_exporter": "python",
   "pygments_lexer": "ipython3",
   "version": "3.4.3"
  }
 },
 "nbformat": 4,
 "nbformat_minor": 0
}
