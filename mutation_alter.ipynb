{
 "cells": [
  {
   "cell_type": "code",
   "execution_count": 1,
   "metadata": {
    "collapsed": true
   },
   "outputs": [],
   "source": [
    "import numpy as np\n",
    "import pandas as pd"
   ]
  },
  {
   "cell_type": "code",
   "execution_count": 2,
   "metadata": {
    "collapsed": false
   },
   "outputs": [],
   "source": [
    "mut_orig = pd.DataFrame.from_csv('Sanger_molecular_data/mutations.csv', header=0, index_col=False)"
   ]
  },
  {
   "cell_type": "code",
   "execution_count": 3,
   "metadata": {
    "collapsed": false,
    "scrolled": true
   },
   "outputs": [
    {
     "data": {
      "text/plain": [
       "(146287, 32)"
      ]
     },
     "execution_count": 3,
     "metadata": {},
     "output_type": "execute_result"
    }
   ],
   "source": [
    "mut_orig.shape"
   ]
  },
  {
   "cell_type": "code",
   "execution_count": 4,
   "metadata": {
    "collapsed": false
   },
   "outputs": [],
   "source": [
    "mut = mut_orig.dropna(subset=['Mutation.Description'])"
   ]
  },
  {
   "cell_type": "code",
   "execution_count": 5,
   "metadata": {
    "collapsed": false
   },
   "outputs": [
    {
     "data": {
      "text/plain": [
       "Gene.name                   False\n",
       "Accession.Number            False\n",
       "Gene.CDS.length             False\n",
       "HGNC.ID                      True\n",
       "cell_line_name              False\n",
       "ID_sample                   False\n",
       "ID_tumour                   False\n",
       "Primary.site                False\n",
       "Site.subtype                False\n",
       "Primary.histology           False\n",
       "Histology.subtype           False\n",
       "Genome.wide.screen          False\n",
       "Mutation.ID                 False\n",
       "Mutation.CDS                False\n",
       "Mutation.AA                 False\n",
       "Mutation.Description        False\n",
       "Mutation.zygosity           False\n",
       "GRCh                        False\n",
       "Mutation.genome.position    False\n",
       "strand                      False\n",
       "SNP                          True\n",
       "FATHMM.prediction            True\n",
       "Mutation.somatic.status     False\n",
       "Pubmed_PMID                  True\n",
       "ID_STUDY                     True\n",
       "Institute                    True\n",
       "Institute.Address            True\n",
       "Catalogue.Number             True\n",
       "Sample.source               False\n",
       "Tumour.origin               False\n",
       "Age                          True\n",
       "Comments                     True\n",
       "dtype: bool"
      ]
     },
     "execution_count": 5,
     "metadata": {},
     "output_type": "execute_result"
    }
   ],
   "source": [
    "pd.isnull(mut).any()"
   ]
  },
  {
   "cell_type": "code",
   "execution_count": 6,
   "metadata": {
    "collapsed": false
   },
   "outputs": [],
   "source": [
    "silent = mut['Mutation.Description'] == 'Substitution - coding silent'\n",
    "mut = mut.drop(mut[silent].index)\n",
    "mut = mut.drop('Accession.Number', axis=1)"
   ]
  },
  {
   "cell_type": "code",
   "execution_count": 7,
   "metadata": {
    "collapsed": false
   },
   "outputs": [
    {
     "data": {
      "text/plain": [
       "(56744, 31)"
      ]
     },
     "execution_count": 7,
     "metadata": {},
     "output_type": "execute_result"
    }
   ],
   "source": [
    "mut.shape"
   ]
  }
 ],
 "metadata": {
  "kernelspec": {
   "display_name": "Python 3",
   "language": "python",
   "name": "python3"
  },
  "language_info": {
   "codemirror_mode": {
    "name": "ipython",
    "version": 3
   },
   "file_extension": ".py",
   "mimetype": "text/x-python",
   "name": "python",
   "nbconvert_exporter": "python",
   "pygments_lexer": "ipython3",
   "version": "3.4.3"
  }
 },
 "nbformat": 4,
 "nbformat_minor": 0
}
